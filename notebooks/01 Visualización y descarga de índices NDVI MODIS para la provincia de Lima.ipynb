{
 "cells": [
  {
   "cell_type": "markdown",
   "metadata": {},
   "source": [
    "# **_<div class=\"alert alert-info\"><font color='darkred'> Cartografiando las Lomas</font></div>_**"
   ]
  },
  {
   "cell_type": "markdown",
   "metadata": {},
   "source": [
    "## 1. Importación de las bibliotecas necesarias"
   ]
  },
  {
   "cell_type": "code",
   "execution_count": 23,
   "metadata": {},
   "outputs": [
    {
     "data": {
      "text/html": [
       "<p>To authorize access needed by Earth Engine, open the following\n",
       "        URL in a web browser and follow the instructions:</p>\n",
       "        <p><a href=https://accounts.google.com/o/oauth2/auth?client_id=517222506229-vsmmajv00ul0bs7p89v5m89qs8eb9359.apps.googleusercontent.com&scope=https%3A%2F%2Fwww.googleapis.com%2Fauth%2Fearthengine+https%3A%2F%2Fwww.googleapis.com%2Fauth%2Fdevstorage.full_control&redirect_uri=urn%3Aietf%3Awg%3Aoauth%3A2.0%3Aoob&response_type=code&code_challenge=KEOlyh0pbjUE3-2VZKM3qajmQjiVEZB7Ur1RwE30ozE&code_challenge_method=S256>https://accounts.google.com/o/oauth2/auth?client_id=517222506229-vsmmajv00ul0bs7p89v5m89qs8eb9359.apps.googleusercontent.com&scope=https%3A%2F%2Fwww.googleapis.com%2Fauth%2Fearthengine+https%3A%2F%2Fwww.googleapis.com%2Fauth%2Fdevstorage.full_control&redirect_uri=urn%3Aietf%3Awg%3Aoauth%3A2.0%3Aoob&response_type=code&code_challenge=KEOlyh0pbjUE3-2VZKM3qajmQjiVEZB7Ur1RwE30ozE&code_challenge_method=S256</a></p>\n",
       "        <p>The authorization workflow will generate a code, which you\n",
       "        should paste in the box below</p>\n",
       "        "
      ],
      "text/plain": [
       "<IPython.core.display.HTML object>"
      ]
     },
     "metadata": {},
     "output_type": "display_data"
    },
    {
     "name": "stdout",
     "output_type": "stream",
     "text": [
      "Enter verification code: 4/1AY0e-g5bl-AwBoWU06rKh-zF1BKsQfPDYxQj5lmNWYcd5O8QlrUsoFTubmQ\n",
      "\n",
      "Successfully saved authorization token.\n"
     ]
    }
   ],
   "source": [
    "import ee\n",
    "# Autentificar\n",
    "ee.Authenticate()\n",
    "# Inicializamos\n",
    "ee.Initialize()"
   ]
  },
  {
   "cell_type": "code",
   "execution_count": 24,
   "metadata": {},
   "outputs": [],
   "source": [
    "import geemap as emap\n",
    "Map = emap.Map()\n",
    "Map.add_basemap('ROADMAP')"
   ]
  },
  {
   "cell_type": "markdown",
   "metadata": {},
   "source": [
    "## 2. Visualización y descarga de índices NDVI MODIS para la provincia de Lima"
   ]
  },
  {
   "cell_type": "code",
   "execution_count": 25,
   "metadata": {},
   "outputs": [
    {
     "data": {
      "application/vnd.jupyter.widget-view+json": {
       "model_id": "5211044e8f75479b87efa763a4c1c233",
       "version_major": 2,
       "version_minor": 0
      },
      "text/plain": [
       "Map(center=[-12.020761229806144, -76.91462520735031], controls=(WidgetControl(options=['position'], widget=HBo…"
      ]
     },
     "metadata": {},
     "output_type": "display_data"
    }
   ],
   "source": [
    "# Establecemos la region de mapeo (provincia de Lima)\n",
    "region = ee.FeatureCollection('users/geoyons/tugee/LimaProv')\n",
    "\n",
    "# Definimos la coleccion\n",
    "col = 'MODIS/006/MOD13Q1'\n",
    "\n",
    "# Definimos las bandas\n",
    "bands = ['NDVI']\n",
    "\n",
    "# Funcion de filtro de pixeles contaminados usando la banda de fiabilidad\n",
    "def maskSQA(image):\n",
    "    mask = image.select('SummaryQA').eq(0).Or(image.select('SummaryQA').eq(1))\n",
    "    imageMask = image.updateMask(mask)\n",
    "    return imageMask\n",
    "    \n",
    "# Filtrado de la coleccion MODIS\n",
    "colMODIS = ee.ImageCollection(col)\\\n",
    "        .filterDate('2018-01-01', '2018-12-31')\\\n",
    "        .filterBounds(region)\\\n",
    "        .map(maskSQA)\\\n",
    "        .reduce(ee.Reducer.max()).divide(10000).clip(region)\\\n",
    "        .reproject(crs = 'EPSG:4326', scale = 250)\n",
    "\n",
    "# Seleccion del indice NDVI\n",
    "ndvi = colMODIS.select([0], bands)\n",
    "\n",
    "# Definimos los parametros de visualizacion\n",
    "visParams = {\n",
    "  'min': 0.02,\n",
    "  'max': 0.4,\n",
    "  'palette': ['FFFFFF','CC9966','CC9900','996600', '33CC00', '009900','006600']\n",
    "}\n",
    "\n",
    "# Visualizamos el ndvi y la region de estudio\n",
    "Map.centerObject(region, 9)\n",
    "Map.addLayer(region, {}, 'Provincia de Lima', True)\n",
    "Map.addLayer(ndvi, visParams, 'NDVImax MODIS 2018')\n",
    "Map.add_colorbar(visParams, label=\"Normalized Difference Vegetation Index (NDVI)\")\n",
    "Map"
   ]
  }
 ],
 "metadata": {
  "kernelspec": {
   "display_name": "Python 3",
   "language": "python",
   "name": "python3"
  },
  "language_info": {
   "codemirror_mode": {
    "name": "ipython",
    "version": 3
   },
   "file_extension": ".py",
   "mimetype": "text/x-python",
   "name": "python",
   "nbconvert_exporter": "python",
   "pygments_lexer": "ipython3",
   "version": "3.7.8"
  }
 },
 "nbformat": 4,
 "nbformat_minor": 4
}
