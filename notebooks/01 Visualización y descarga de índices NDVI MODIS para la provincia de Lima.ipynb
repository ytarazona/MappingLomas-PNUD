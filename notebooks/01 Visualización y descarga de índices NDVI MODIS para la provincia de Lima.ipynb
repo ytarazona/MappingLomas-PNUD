{
  
  "cells": [
    {
      "cell_type": "markdown",
      "metadata": {},
      "source": [
        "<table class=\"ee-notebook-buttons\" align=\"left\">\n",
        "    <td><a target=\"_blank\"  href=\"https://github.com/giswqs/earthengine-py-notebooks/tree/master/Algorithms/center_pivot_irrigation_detector.ipynb\"><img width=32px src=\"https://www.tensorflow.org/images/GitHub-Mark-32px.png\" /> View source on GitHub</a></td>\n",
        "    <td><a target=\"_blank\"  href=\"https://nbviewer.jupyter.org/github/giswqs/earthengine-py-notebooks/blob/master/Algorithms/center_pivot_irrigation_detector.ipynb\"><img width=26px src=\"https://upload.wikimedia.org/wikipedia/commons/thumb/3/38/Jupyter_logo.svg/883px-Jupyter_logo.svg.png\" />Notebook Viewer</a></td>\n",
        "    <td><a target=\"_blank\"  href=\"https://colab.research.google.com/github/giswqs/earthengine-py-notebooks/blob/master/Algorithms/center_pivot_irrigation_detector.ipynb\"><img src=\"https://www.tensorflow.org/images/colab_logo_32px.png\" /> Run in Google Colab</a></td>\n",
        "</table>"
      ]
  
  "nbformat": 4,
  "nbformat_minor": 0,
  "metadata": {
    "kernelspec": {
      "display_name": "Python 3",
      "language": "python",
      "name": "python3"
    },
    "language_info": {
      "codemirror_mode": {
        "name": "ipython",
        "version": 3
      },
      "file_extension": ".py",
      "mimetype": "text/x-python",
      "name": "python",
      "nbconvert_exporter": "python",
      "pygments_lexer": "ipython3",
      "version": "3.7.8"
    },
    "colab": {
      "name": "01 Visualización y descarga de índices NDVI MODIS para la provincia de Lima.ipynb",
      "provenance": []
    }
  },
  "cells": [
    {
      "cell_type": "markdown",
      "metadata": {
        "id": "_DmCDymVkotN"
      },
      "source": [
        "# **_<div class=\"alert alert-info\"><font color='darkred'> Cartografiando las Lomas</font></div>_**"
      ]
    },
    {
      "cell_type": "markdown",
      "metadata": {
        "id": "8sn4mhlUkotQ"
      },
      "source": [
        "## 1. Importación de las bibliotecas necesarias"
      ]
    },
    {
      "cell_type": "code",
      "metadata": {
        "id": "fMaPDTNfkotS"
      },
      "source": [
        "import ee\n",
        "import geemap as emap\n",
        "Map = emap.Map()\n",
        "Map.add_basemap('ROADMAP')"
      ],
      "execution_count": null,
      "outputs": []
    },
    {
      "cell_type": "markdown",
      "metadata": {
        "id": "CrfZ2v4okotT"
      },
      "source": [
        "## 2. Visualización y descarga de índices NDVI MODIS para la provincia de Lima"
      ]
    },
    {
      "cell_type": "markdown",
      "metadata": {
        "id": "5llMCJJQkotU"
      },
      "source": [
        "### 2.1 Visualización de los máximos NDVI"
      ]
    },
    {
      "cell_type": "code",
      "metadata": {
        "id": "9wmXSBu6kotU",
        "outputId": "07b21794-725c-4a95-a3bf-2f471c996f18",
        "colab": {
          "referenced_widgets": [
            "ea6e836603084e97b0bdf48b2816b885"
          ]
        }
      },
      "source": [
        "# Establecemos la region de mapeo (provincia de Lima)\n",
        "region = ee.FeatureCollection('users/geoyons/tugee/LimaProv')\n",
        "\n",
        "# Definimos la coleccion\n",
        "col = 'MODIS/006/MOD13Q1'\n",
        "\n",
        "# Definimos las bandas\n",
        "bands = ['NDVI']\n",
        "\n",
        "# Funcion de filtro de pixeles contaminados usando la banda de fiabilidad\n",
        "def maskSQA(image):\n",
        "    mask = image.select('SummaryQA').eq(0).Or(image.select('SummaryQA').eq(1))\n",
        "    imageMask = image.updateMask(mask)\n",
        "    return imageMask\n",
        "    \n",
        "# Filtrado de la coleccion MODIS\n",
        "colMODIS = ee.ImageCollection(col)\\\n",
        "        .filterDate('2018-01-01', '2018-12-31')\\\n",
        "        .filterBounds(region)\\\n",
        "        .map(maskSQA)\\\n",
        "        .reduce(ee.Reducer.max()).divide(10000).clip(region)\\\n",
        "        .reproject(crs = 'EPSG:4326', scale = 250)\n",
        "\n",
        "# Seleccion del indice NDVI\n",
        "ndvi = colMODIS.select([0], bands)\n",
        "\n",
        "# Definimos los parametros de visualizacion\n",
        "visParams = {\n",
        "  'min': 0.02,\n",
        "  'max': 0.4,\n",
        "  'palette': ['FFFFFF','CC9966','CC9900','996600', '33CC00', '009900','006600']\n",
        "}\n",
        "\n",
        "# Visualizamos el ndvi y la region de estudio\n",
        "Map.centerObject(region, 9)\n",
        "Map.addLayer(region, {}, 'Provincia de Lima', True)\n",
        "Map.addLayer(ndvi, visParams, 'NDVImax MODIS 2018')\n",
        "Map.add_colorbar(visParams, label=\"Normalized Difference Vegetation Index (NDVI)\")\n",
        "Map"
      ],
      "execution_count": null,
      "outputs": [
        {
          "output_type": "display_data",
          "data": {
            "application/vnd.jupyter.widget-view+json": {
              "model_id": "ea6e836603084e97b0bdf48b2816b885",
              "version_major": 2,
              "version_minor": 0
            },
            "text/plain": [
              "Map(center=[-12.020761229806144, -76.91462520735031], controls=(WidgetControl(options=['position'], widget=HBo…"
            ]
          },
          "metadata": {
            "tags": []
          }
        }
      ]
    },
    {
      "cell_type": "markdown",
      "metadata": {
        "id": "y04Xp-ITkotX"
      },
      "source": [
        "### 2.2 Descarga de los máximos NDVI"
      ]
    },
    {
      "cell_type": "code",
      "metadata": {
        "id": "I9ZJWjdKkotX"
      },
      "source": [
        "# Seccion de codigo para descarga automatica de indices MODIS\n",
        "col = 'MODIS/006/MOD13Q1'\n",
        "\n",
        "bands = ['NDVI']\n",
        "\n",
        "# Establecemos la region de mapeo (provincia de Lima)\n",
        "region = ee.FeatureCollection('users/geoyons/tugee/LimaProv')\n",
        "\n",
        "def getNDVImodis(ini_date, end_date, roi, folder):\n",
        "    '''\n",
        "    Esta funcion permite descargar automáticamente imagenes MODIS\n",
        "    directamente a una carpeta de Google Drive personal.\n",
        "    \n",
        "    Parametros:\n",
        "    \n",
        "        ini_date: Fecha de inicio\n",
        "        \n",
        "        ini_end: Fecha de fin\n",
        "        \n",
        "        roi: region de interes (FeatureCollection)\n",
        "        \n",
        "        folder: Nombre de la carpeta donde se descargara las imagenes\n",
        "    \n",
        "    Retura:\n",
        "        Imagenes de indices descargados en .tif.\n",
        "    '''\n",
        "    \n",
        "    def maskSQA(image):\n",
        "        mask = image.select('SummaryQA').eq(0).Or(image.select('SummaryQA').eq(1))\n",
        "        imageMask = image.updateMask(mask)\n",
        "        return imageMask\n",
        "    \n",
        "    ndvi = ee.ImageCollection(col)\\\n",
        "        .filterDate(ini_date, end_date)\\\n",
        "        .filterBounds(roi)\\\n",
        "        .map(maskSQA)\\\n",
        "        .reduce(ee.Reducer.max())\\\n",
        "        .divide(10000)\\\n",
        "        .clip(roi)\\\n",
        "        .select([0], bands)\n",
        "    \n",
        "    # Descargar directamente a Google Drive\n",
        "    task = ee.batch.Export.image(ndvi.select('NDVI'), \n",
        "                                 'NDVI_MODIS_' + ini_date + '_' + end_date + '_median', \n",
        "                                 {'region': region.geometry(),\n",
        "                                  'scale': 250,\n",
        "                                  'maxPixels': 1e13,\n",
        "                                  'folder': folder,\n",
        "                                  'fileFormat': 'GeoTIFF',\n",
        "                                  'crs': 'EPSG:4326'})\n",
        "    print('Descargando la imagen:'+'NDVI_MODIS_'+ini_date+'_'+end_date+'_max'+'.tif')\n",
        "    task.start()\n",
        "\n",
        "# Ejemplo de descargar para el año 2020\n",
        "getNDVImodis(ini_date = '2020-01-01', end_date = '2020-12-31', roi = region, folder = 'MOD13Q1_NDVI')"
      ],
      "execution_count": null,
      "outputs": []
    }
  ]
}
